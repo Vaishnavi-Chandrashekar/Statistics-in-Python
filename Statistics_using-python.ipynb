{
 "cells": [
  {
   "cell_type": "code",
   "execution_count": 1,
   "id": "c760a8cf",
   "metadata": {},
   "outputs": [],
   "source": [
    "import numpy as np\n",
    "import pandas as pd\n",
    "import matplotlib.pyplot as plt\n",
    "%matplotlib inline"
   ]
  },
  {
   "cell_type": "code",
   "execution_count": 2,
   "id": "d35e21fe",
   "metadata": {},
   "outputs": [
    {
     "data": {
      "text/html": [
       "<div>\n",
       "<style scoped>\n",
       "    .dataframe tbody tr th:only-of-type {\n",
       "        vertical-align: middle;\n",
       "    }\n",
       "\n",
       "    .dataframe tbody tr th {\n",
       "        vertical-align: top;\n",
       "    }\n",
       "\n",
       "    .dataframe thead th {\n",
       "        text-align: right;\n",
       "    }\n",
       "</style>\n",
       "<table border=\"1\" class=\"dataframe\">\n",
       "  <thead>\n",
       "    <tr style=\"text-align: right;\">\n",
       "      <th></th>\n",
       "      <th>id</th>\n",
       "      <th>age</th>\n",
       "    </tr>\n",
       "  </thead>\n",
       "  <tbody>\n",
       "    <tr>\n",
       "      <th>0</th>\n",
       "      <td>0</td>\n",
       "      <td>20</td>\n",
       "    </tr>\n",
       "    <tr>\n",
       "      <th>1</th>\n",
       "      <td>1</td>\n",
       "      <td>28</td>\n",
       "    </tr>\n",
       "    <tr>\n",
       "      <th>2</th>\n",
       "      <td>2</td>\n",
       "      <td>23</td>\n",
       "    </tr>\n",
       "    <tr>\n",
       "      <th>3</th>\n",
       "      <td>3</td>\n",
       "      <td>24</td>\n",
       "    </tr>\n",
       "    <tr>\n",
       "      <th>4</th>\n",
       "      <td>4</td>\n",
       "      <td>28</td>\n",
       "    </tr>\n",
       "    <tr>\n",
       "      <th>5</th>\n",
       "      <td>5</td>\n",
       "      <td>20</td>\n",
       "    </tr>\n",
       "  </tbody>\n",
       "</table>\n",
       "</div>"
      ],
      "text/plain": [
       "   id  age\n",
       "0   0   20\n",
       "1   1   28\n",
       "2   2   23\n",
       "3   3   24\n",
       "4   4   28\n",
       "5   5   20"
      ]
     },
     "execution_count": 2,
     "metadata": {},
     "output_type": "execute_result"
    }
   ],
   "source": [
    "df = pd.DataFrame(dict(id=range(6), age = np.random.randint(18,31, size = 6)))\n",
    "df"
   ]
  },
  {
   "cell_type": "code",
   "execution_count": 3,
   "id": "d1cca682",
   "metadata": {},
   "outputs": [
    {
     "name": "stdout",
     "output_type": "stream",
     "text": [
      "Mean:  23.833333333333332\n",
      "Median:  23.5\n",
      "Mode:  0    20\n",
      "1    28\n",
      "Name: age, dtype: int32\n"
     ]
    }
   ],
   "source": [
    "print('Mean: ',df.age.mean())\n",
    "print('Median: ',df.age.median())\n",
    "print('Mode: ',df.age.mode())"
   ]
  },
  {
   "cell_type": "code",
   "execution_count": 5,
   "id": "e8ac5a97",
   "metadata": {},
   "outputs": [
    {
     "name": "stdout",
     "output_type": "stream",
     "text": [
      "Variance:  12.966666666666669\n",
      "Standard deviation:  3.6009258068817065\n",
      "Range:  8\n"
     ]
    }
   ],
   "source": [
    "print('Variance: ',df.age.var())\n",
    "print('Standard deviation: ',df.age.std())\n",
    "print('Range: ', df.age.max() - df.age.min())"
   ]
  },
  {
   "cell_type": "code",
   "execution_count": 6,
   "id": "4d57fa7b",
   "metadata": {},
   "outputs": [
    {
     "data": {
      "text/plain": [
       "<AxesSubplot:>"
      ]
     },
     "execution_count": 6,
     "metadata": {},
     "output_type": "execute_result"
    },
    {
     "data": {
      "image/png": "[encoded data removed]",
      "text/plain": [
       "<Figure size 432x288 with 1 Axes>"
      ]
     },
     "metadata": {
      "needs_background": "light"
     },
     "output_type": "display_data"
    }
   ],
   "source": [
    "df.boxplot(column = 'age', return_type = 'axes')"
   ]
  },
  {
   "cell_type": "code",
   "execution_count": 13,
   "id": "2b400da6",
   "metadata": {},
   "outputs": [
    {
     "name": "stdout",
     "output_type": "stream",
     "text": [
      "0.20203316195654214\n"
     ]
    },
    {
     "name": "stderr",
     "output_type": "stream",
     "text": [
      "C:\\Users\\vcyad\\anaconda3\\lib\\site-packages\\seaborn\\distributions.py:2619: FutureWarning: `distplot` is a deprecated function and will be removed in a future version. Please adapt your code to use either `displot` (a figure-level function with similar flexibility) or `histplot` (an axes-level function for histograms).\n",
      "  warnings.warn(msg, FutureWarning)\n"
     ]
    },
    {
     "data": {
      "text/plain": [
       "<AxesSubplot:xlabel='age', ylabel='Density'>"
      ]
     },
     "execution_count": 13,
     "metadata": {},
     "output_type": "execute_result"
    },
    {
     "data": {
      "image/png": "[encoded data removed]",
      "text/plain": [
       "<Figure size 432x288 with 1 Axes>"
      ]
     },
     "metadata": {
      "needs_background": "light"
     },
     "output_type": "display_data"
    }
   ],
   "source": [
    "print(df['age'].skew())\n",
    "import seaborn as sns\n",
    "sns.distplot(df['age'], kde = True, color ='blue')"
   ]
  },
  {
   "cell_type": "code",
   "execution_count": 8,
   "id": "86a1284b",
   "metadata": {},
   "outputs": [
    {
     "data": {
      "text/plain": [
       "-1.9403123162019815"
      ]
     },
     "execution_count": 8,
     "metadata": {},
     "output_type": "execute_result"
    }
   ],
   "source": [
    "df['age'].kurt()"
   ]
  },
  {
   "cell_type": "markdown",
   "id": "980daec0",
   "metadata": {},
   "source": [
    "Inferential statistics"
   ]
  },
  {
   "cell_type": "code",
   "execution_count": 14,
   "id": "82f74acd",
   "metadata": {},
   "outputs": [],
   "source": [
    "population = np.random.randint(10, 20, 1000)\n",
    "\n",
    "np.random.seed(10)\n",
    "\n",
    "estimates = []\n",
    "\n",
    "for x in range(200):\n",
    "    sample = np.random.choice(a=population, size = 100)\n",
    "    estimates.append(sample.mean())"
   ]
  },
  {
   "cell_type": "code",
   "execution_count": 15,
   "id": "3aae0af5",
   "metadata": {},
   "outputs": [
    {
     "data": {
      "text/plain": [
       "14.506"
      ]
     },
     "execution_count": 15,
     "metadata": {},
     "output_type": "execute_result"
    }
   ],
   "source": [
    "np.mean(population)"
   ]
  },
  {
   "cell_type": "code",
   "execution_count": 16,
   "id": "195c7c30",
   "metadata": {},
   "outputs": [
    {
     "data": {
      "text/plain": [
       "<AxesSubplot:ylabel='Density'>"
      ]
     },
     "execution_count": 16,
     "metadata": {},
     "output_type": "execute_result"
    },
    {
     "data": {
      "image/png": "[encoded data removed]",
      "text/plain": [
       "<Figure size 432x288 with 1 Axes>"
      ]
     },
     "metadata": {
      "needs_background": "light"
     },
     "output_type": "display_data"
    }
   ],
   "source": [
    "pd.DataFrame(estimates).plot(kind = 'density')"
   ]
  },
  {
   "cell_type": "code",
   "execution_count": 17,
   "id": "9889c617",
   "metadata": {},
   "outputs": [],
   "source": [
    "import scipy.stats as stats\n",
    "\n",
    "z_critical = stats.norm.ppf(q = 0.975)"
   ]
  },
  {
   "cell_type": "code",
   "execution_count": 18,
   "id": "aaa4c45f",
   "metadata": {},
   "outputs": [],
   "source": [
    "t_critical = stats.t.ppf(q = 0.975, df = 24)"
   ]
  },
  {
   "cell_type": "code",
   "execution_count": 19,
   "id": "26762687",
   "metadata": {},
   "outputs": [],
   "source": [
    "margin_of_error = z_critical * (np.std(estimates)/np.sqrt(200))"
   ]
  },
  {
   "cell_type": "code",
   "execution_count": 20,
   "id": "825015ee",
   "metadata": {},
   "outputs": [
    {
     "data": {
      "text/plain": [
       "14.46704787384076"
      ]
     },
     "execution_count": 20,
     "metadata": {},
     "output_type": "execute_result"
    }
   ],
   "source": [
    "#lower = sample_mean - margin of error\n",
    "np.mean(estimates) - margin_of_error"
   ]
  },
  {
   "cell_type": "code",
   "execution_count": 21,
   "id": "573acceb",
   "metadata": {},
   "outputs": [
    {
     "data": {
      "text/plain": [
       "14.541852126159236"
      ]
     },
     "execution_count": 21,
     "metadata": {},
     "output_type": "execute_result"
    }
   ],
   "source": [
    "np.mean(estimates) + margin_of_error"
   ]
  }
 ],
 "metadata": {
  "kernelspec": {
   "display_name": "Python 3 (ipykernel)",
   "language": "python",
   "name": "python3"
  },
  "language_info": {
   "codemirror_mode": {
    "name": "ipython",
    "version": 3
   },
   "file_extension": ".py",
   "mimetype": "text/x-python",
   "name": "python",
   "nbconvert_exporter": "python",
   "pygments_lexer": "ipython3",
   "version": "3.9.12"
  }
 },
 "nbformat": 4,
 "nbformat_minor": 5
}
