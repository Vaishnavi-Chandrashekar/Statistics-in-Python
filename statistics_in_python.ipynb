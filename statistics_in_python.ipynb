{
  "nbformat": 4,
  "nbformat_minor": 0,
  "metadata": {
    "colab": {
      "provenance": []
    },
    "kernelspec": {
      "name": "python3",
      "display_name": "Python 3"
    },
    "language_info": {
      "name": "python"
    }
  },
  "cells": [
    {
      "cell_type": "code",
      "execution_count": 39,
      "metadata": {
        "id": "1mh1AI6sNr1b"
      },
      "outputs": [],
      "source": [
        "import math"
      ]
    },
    {
      "cell_type": "markdown",
      "source": [
        "MEAN"
      ],
      "metadata": {
        "id": "2WNkSDtvXzE0"
      }
    },
    {
      "cell_type": "code",
      "source": [
        "def mean(*args):\n",
        "    val_sum = sum(args)\n",
        "    return val_sum / len(args)\n",
        "\n",
        "print(f\"mean : {mean(1,2,3,4,5)}\")"
      ],
      "metadata": {
        "colab": {
          "base_uri": "https://localhost:8080/",
          "height": 0
        },
        "id": "UcIGoOf8N0kB",
        "outputId": "2539e679-311c-43d8-d2f4-f3e837310961"
      },
      "execution_count": 38,
      "outputs": [
        {
          "output_type": "stream",
          "name": "stdout",
          "text": [
            "mean : 3.0\n"
          ]
        }
      ]
    },
    {
      "cell_type": "markdown",
      "source": [
        "MEDIAN"
      ],
      "metadata": {
        "id": "ShPup_ktX0yk"
      }
    },
    {
      "cell_type": "code",
      "source": [
        "def median(*args):\n",
        "    if len(args) % 2 == 0:\n",
        "        i = round((len(args) + 1) / 2)\n",
        "        j = i - 1\n",
        "        return (args[i] + args[j]) / 2\n",
        "    else:\n",
        "        k = round(len(args) / 2)\n",
        "        return args[k]\n",
        "\n",
        "print(f\"median: {median(1,2,3,4,5)}\")\n",
        "print(f\"median: {median(1,2,3,4,5,6)}\")"
      ],
      "metadata": {
        "colab": {
          "base_uri": "https://localhost:8080/",
          "height": 0
        },
        "id": "LFszD_0RVoLx",
        "outputId": "f84d1a5e-12f2-4a75-a617-ad9ded38c4e2"
      },
      "execution_count": 36,
      "outputs": [
        {
          "output_type": "stream",
          "name": "stdout",
          "text": [
            "median: 3\n",
            "median: 4.5\n"
          ]
        }
      ]
    },
    {
      "cell_type": "markdown",
      "source": [
        "MODE"
      ],
      "metadata": {
        "id": "iktiGtgJX33X"
      }
    },
    {
      "cell_type": "code",
      "source": [
        "def mode(*args):\n",
        "    dict_vals = {i: args.count(i) for i in args}\n",
        "    max_list = [k for k, v in dict_vals.items() if v == max(dict_vals.values())]\n",
        "    return max_list\n",
        "\n",
        "print(f\"mode : {mode(1,2,3,4,5,5)}\")"
      ],
      "metadata": {
        "colab": {
          "base_uri": "https://localhost:8080/",
          "height": 0
        },
        "id": "-9G1ZKZmVhvE",
        "outputId": "a382868e-d808-41bc-df63-7d9b404fdd9b"
      },
      "execution_count": 35,
      "outputs": [
        {
          "output_type": "stream",
          "name": "stdout",
          "text": [
            "mode : [5]\n"
          ]
        }
      ]
    },
    {
      "cell_type": "markdown",
      "source": [
        "VARIANCE"
      ],
      "metadata": {
        "id": "5W-aWGn8X5xk"
      }
    },
    {
      "cell_type": "code",
      "source": [
        "def variance(*args):\n",
        "    mean_val = mean(*args)\n",
        "    numerator = 0\n",
        "    for i in args:\n",
        "        numerator += (i - mean_val) ** 2\n",
        "    denominator = len(args) - 1\n",
        "    return numerator / denominator\n",
        "\n",
        "print(f'variance : {variance(4,6,3,5,2)}')"
      ],
      "metadata": {
        "colab": {
          "base_uri": "https://localhost:8080/",
          "height": 0
        },
        "id": "ZuZWrqUfVUYK",
        "outputId": "bed35588-6099-4f69-8580-d4e1e6b87728"
      },
      "execution_count": 47,
      "outputs": [
        {
          "output_type": "stream",
          "name": "stdout",
          "text": [
            "variance : 2.5\n"
          ]
        }
      ]
    },
    {
      "cell_type": "markdown",
      "source": [
        "STANDARD DEVIATION"
      ],
      "metadata": {
        "id": "vaWvXpN5X_Pk"
      }
    },
    {
      "cell_type": "code",
      "source": [
        "def standard_deviation(*args):\n",
        "    return math.sqrt(variance(*args))\n",
        "\n",
        "print(f\"standard deviation: {standard_deviation(4,6,3,5,2)}\")"
      ],
      "metadata": {
        "colab": {
          "base_uri": "https://localhost:8080/",
          "height": 0
        },
        "id": "TqYxTXOFVOx7",
        "outputId": "549849e2-c884-4c16-b876-35c10f15587f"
      },
      "execution_count": 48,
      "outputs": [
        {
          "output_type": "stream",
          "name": "stdout",
          "text": [
            "standard deviation: 1.5811388300841898\n"
          ]
        }
      ]
    },
    {
      "cell_type": "markdown",
      "source": [
        "COEFFICIENT OF VARIATION"
      ],
      "metadata": {
        "id": "Xj7uopF8YCz5"
      }
    },
    {
      "cell_type": "code",
      "source": [
        "def coefficient_variation(*args):\n",
        "    return standard_deviation(*args) / mean(*args)\n",
        "\n",
        "print(f\"Coefficient Variation (miles): {coefficient_variation(3, 4, 4.5, 3.5)}\")\n",
        "print(f\"Coefficient Variation (kms): {coefficient_variation(4.828, 6.437, 7.242, 5.632)}\")"
      ],
      "metadata": {
        "colab": {
          "base_uri": "https://localhost:8080/",
          "height": 0
        },
        "id": "Ygy6skYRVLNT",
        "outputId": "9e2acc33-7a8f-49bd-87fd-b397a338e831"
      },
      "execution_count": 49,
      "outputs": [
        {
          "output_type": "stream",
          "name": "stdout",
          "text": [
            "Coefficient Variation (miles): 0.17213259316477408\n",
            "Coefficient Variation (kms): 0.17214686292344047\n"
          ]
        }
      ]
    },
    {
      "cell_type": "markdown",
      "source": [
        "COVARIANCE"
      ],
      "metadata": {
        "id": "nNeA2KauYXhz"
      }
    },
    {
      "cell_type": "code",
      "source": [
        "def covariance(*args):\n",
        "    #Using a list comprehension to get all values stored in the 1st & 2nd list\n",
        "    list_1 = [i[0] for i in args]\n",
        "    list_2 = [i[1] for i in args]\n",
        "    list_1_mean = mean(*list_1[0])\n",
        "    list_2_mean = mean(*list_2[0])\n",
        "    numerator = 0\n",
        "\n",
        "    # We must have the same number of elements in both lists\n",
        "    if len(list_1[0]) == len(list_2[0]):\n",
        "        for i in range(len(list_1[0])):\n",
        "                                       #  xi - x mean * yi - y mean\n",
        "            numerator += (list_1[0][i] - list_1_mean) * (list_2[0][i] - list_2_mean)\n",
        "        denominator = len(list_1[0]) - 1\n",
        "        return numerator / denominator\n",
        "    else:\n",
        "        print(\"Error\")\n",
        "\n",
        "list = [[1532, 1488, 1343, 928, 615], [58, 35, 75, 41, 17]]\n",
        "print(f\"Covariance : {covariance(list)}\")"
      ],
      "metadata": {
        "colab": {
          "base_uri": "https://localhost:8080/",
          "height": 0
        },
        "id": "yuicxsAhVLtn",
        "outputId": "f2a2d922-cd78-410c-db49-7aa9ebedd12d"
      },
      "execution_count": 50,
      "outputs": [
        {
          "output_type": "stream",
          "name": "stdout",
          "text": [
            "Covariance : 5803.200000000001\n"
          ]
        }
      ]
    },
    {
      "cell_type": "markdown",
      "source": [
        "CORRELATION COEFFICIENT"
      ],
      "metadata": {
        "id": "eTaRxcEzYpQW"
      }
    },
    {
      "cell_type": "code",
      "source": [
        "def correlation_coefficient(*args):\n",
        "    list_1 = [i[0] for i in args]\n",
        "    list_2 = [i[1] for i in args]\n",
        "\n",
        "    # Passing these lists to get their standard deviations\n",
        "    list_1_sd = standard_deviation(*list_1[0])\n",
        "    list_2_sd = standard_deviation(*list_2[0])\n",
        "    print(f\"List1 Standard Deviation : {list_1_sd}\")\n",
        "    print(f\"List2 Standard Deviation : {list_2_sd}\")\n",
        "    denominator = list_1_sd * list_2_sd\n",
        "\n",
        "    # Getting the covariance\n",
        "    numerator = covariance(*args)\n",
        "    return numerator / denominator\n",
        "\n",
        "list = [[1532, 1488, 1343, 928, 615], [58, 35, 75, 41, 17]]\n",
        "print(f\"Correlation Coefficient : {correlation_coefficient(list)}\")"
      ],
      "metadata": {
        "colab": {
          "base_uri": "https://localhost:8080/",
          "height": 0
        },
        "id": "DsrXRGczWIo2",
        "outputId": "32454dc0-f08c-488f-b9e0-64459111926b"
      },
      "execution_count": 51,
      "outputs": [
        {
          "output_type": "stream",
          "name": "stdout",
          "text": [
            "List1 Standard Deviation : 396.2508044155873\n",
            "List2 Standard Deviation : 22.185580902919806\n",
            "Correlation Coefficient : 0.660125602195931\n"
          ]
        }
      ]
    }
  ]
}